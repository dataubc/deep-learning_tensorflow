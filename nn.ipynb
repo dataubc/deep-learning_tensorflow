{
 "cells": [
  {
   "cell_type": "code",
   "execution_count": 1,
   "id": "df956c2d-8669-4f67-9aed-9d16b4499422",
   "metadata": {},
   "outputs": [],
   "source": [
    "import numpy as np\n",
    "import pandas as pd\n",
    "import matplotlib.pyplot as plt"
   ]
  },
  {
   "cell_type": "markdown",
   "id": "9b847220-9acc-4adb-84b2-f4738b5b745e",
   "metadata": {},
   "source": [
    "### The linear Model"
   ]
  },
  {
   "cell_type": "markdown",
   "id": "f8535eec-5f8a-4339-a507-1fbf0070644f",
   "metadata": {},
   "source": [
    "y = $X^T$.w + b"
   ]
  },
  {
   "cell_type": "markdown",
   "id": "c1ab8774-fc50-4886-88da-5d46db63ccda",
   "metadata": {},
   "source": [
    "What this equation tells us is that the dot product of feature matrix `X` and weight vector `w` + the bias b will get us the response vector y"
   ]
  },
  {
   "cell_type": "markdown",
   "id": "cca02497-8d51-49ea-91a5-6bb49967f97f",
   "metadata": {},
   "source": [
    "Let's take an example to refresh our mind of how this works in numbers."
   ]
  },
  {
   "cell_type": "code",
   "execution_count": 2,
   "id": "25dab7b4-9ab7-46d5-a3ab-941418cec334",
   "metadata": {},
   "outputs": [],
   "source": [
    "#Example:\n",
    "#You need for 5 years at the Egnineering School. The `cgpa` will be calculated based on the following formula\n",
    "#firstYearGPA*(1/15) + SecondYearGPA*(2/15) + .....+FifthYearGPA*(5/15)"
   ]
  },
  {
   "cell_type": "markdown",
   "id": "ece697e7-c2ee-4083-9b0f-2a165ee589de",
   "metadata": {},
   "source": [
    "Let's say we have a student that has the followning gpa:"
   ]
  },
  {
   "cell_type": "code",
   "execution_count": 3,
   "id": "c62cade5-3d91-4b91-9c5f-d5b817177dfa",
   "metadata": {},
   "outputs": [
    {
     "data": {
      "text/plain": [
       "array([3.3, 3.1, 2.9, 3.4, 3.5])"
      ]
     },
     "execution_count": 3,
     "metadata": {},
     "output_type": "execute_result"
    }
   ],
   "source": [
    "gpa = np.array([3.3,3.1,2.9,3.4,3.5])\n",
    "gpa"
   ]
  },
  {
   "cell_type": "markdown",
   "id": "af8c12d7-b7f9-4bf1-9afe-374f5bcaff6f",
   "metadata": {},
   "source": [
    "Can you calculate the `cgpa`\n"
   ]
  },
  {
   "cell_type": "markdown",
   "id": "5a0015f1-409c-4a42-9568-c064fab274c8",
   "metadata": {},
   "source": [
    "First, let's define our weights:"
   ]
  },
  {
   "cell_type": "code",
   "execution_count": 4,
   "id": "d78ad2b1-d270-4476-b0df-197a58ac6cd2",
   "metadata": {},
   "outputs": [
    {
     "data": {
      "text/plain": [
       "array([0.06666667, 0.13333333, 0.2       , 0.26666667, 0.33333333])"
      ]
     },
     "execution_count": 4,
     "metadata": {},
     "output_type": "execute_result"
    }
   ],
   "source": [
    "weights = np.array([1/15,2/15,3/15,4/15,5/15])\n",
    "weights"
   ]
  },
  {
   "cell_type": "markdown",
   "id": "09fddee8-8601-4212-babb-98001883e5c8",
   "metadata": {},
   "source": [
    "> We want: 1/15 * 3.3 + 2/15 * 3.1 + 3.15 * 2.9 etc"
   ]
  },
  {
   "cell_type": "markdown",
   "id": "e1c512af-6428-4129-a1d5-a29eeae6004c",
   "metadata": {},
   "source": [
    "Essentially to multiply each gpa with the asssocaited weght. To do this, we need the first rule in matrix multiplication, which dictates the shape of each vector. if we are performing A@B, and A shape is M * N , B shape has to be N * K, which is to say that the rows of B has to match the columns of A."
   ]
  },
  {
   "cell_type": "code",
   "execution_count": 5,
   "id": "2f1fe407-113a-4fac-b14e-5ae099ed02e9",
   "metadata": {},
   "outputs": [
    {
     "data": {
      "text/plain": [
       "(5,)"
      ]
     },
     "execution_count": 5,
     "metadata": {},
     "output_type": "execute_result"
    }
   ],
   "source": [
    "# let's check the shape of gpa\n",
    "gpa.shape"
   ]
  },
  {
   "cell_type": "code",
   "execution_count": 6,
   "id": "ecc1b8a0-2f3b-416c-9e49-b9162efde3ab",
   "metadata": {},
   "outputs": [
    {
     "data": {
      "text/plain": [
       "array([[3.3, 3.1, 2.9, 3.4, 3.5]])"
      ]
     },
     "execution_count": 6,
     "metadata": {},
     "output_type": "execute_result"
    }
   ],
   "source": [
    "# we need to reshape gpa to be 1*5\n",
    "\n",
    "gpa = gpa.reshape(1,5)\n",
    "gpa"
   ]
  },
  {
   "cell_type": "code",
   "execution_count": 7,
   "id": "924af581-ca57-4f5d-ad9d-600314f1617a",
   "metadata": {},
   "outputs": [
    {
     "data": {
      "text/plain": [
       "(1, 5)"
      ]
     },
     "execution_count": 7,
     "metadata": {},
     "output_type": "execute_result"
    }
   ],
   "source": [
    "gpa.shape"
   ]
  },
  {
   "cell_type": "code",
   "execution_count": 8,
   "id": "e59c8a46-acea-4107-b8b9-95830e574530",
   "metadata": {},
   "outputs": [
    {
     "data": {
      "text/plain": [
       "array([[0.06666667],\n",
       "       [0.13333333],\n",
       "       [0.2       ],\n",
       "       [0.26666667],\n",
       "       [0.33333333]])"
      ]
     },
     "execution_count": 8,
     "metadata": {},
     "output_type": "execute_result"
    }
   ],
   "source": [
    "# we need to reshape it to be 5*1\n",
    "\n",
    "weights = weights.reshape(5,1)\n",
    "weights"
   ]
  },
  {
   "cell_type": "code",
   "execution_count": 9,
   "id": "435ce5e8-1123-4cc9-b965-a67ae5ecd028",
   "metadata": {},
   "outputs": [
    {
     "data": {
      "text/plain": [
       "array([[3.28666667]])"
      ]
     },
     "execution_count": 9,
     "metadata": {},
     "output_type": "execute_result"
    }
   ],
   "source": [
    "# now to get the dot product of gpa and weights we use the @ symbol\n",
    "\n",
    "gpa@weights"
   ]
  },
  {
   "cell_type": "markdown",
   "id": "357218ca-60be-432e-902a-8d6913d57e7b",
   "metadata": {},
   "source": [
    "> and this will be the final results for the student."
   ]
  },
  {
   "cell_type": "markdown",
   "id": "11083968-3de4-4afa-8f05-342e2c1980db",
   "metadata": {},
   "source": [
    "**Multi-inputs**"
   ]
  },
  {
   "cell_type": "markdown",
   "id": "98c0af50-dc1e-46ee-93c4-6357e66aaeed",
   "metadata": {},
   "source": [
    "Now let's say we have more than one student. We can put the results of that student in the second column of gpa matrix. Note that the number of rows in gpa matrix doesn't require any change in the shape of the weights vector. Additionally, note that the change in the results will be reflected in the number of rows and not in the number of columns. Let's test this"
   ]
  },
  {
   "cell_type": "code",
   "execution_count": 10,
   "id": "280234c4-07e0-45ea-9c5b-6ef751330aa6",
   "metadata": {},
   "outputs": [
    {
     "data": {
      "text/plain": [
       "array([[3.3, 3.1, 2.9, 3.4, 3.5],\n",
       "       [3.1, 2.5, 2.6, 2.8, 2.9]])"
      ]
     },
     "execution_count": 10,
     "metadata": {},
     "output_type": "execute_result"
    }
   ],
   "source": [
    "#first, let's create the record of student b and then add it to the gpa matrix\n",
    "student_b = np.array([3.1,2.5,2.6,2.8,2.9]).reshape(1,5)\n",
    "gpa = np.vstack([gpa,student_b])\n",
    "gpa"
   ]
  },
  {
   "cell_type": "code",
   "execution_count": 11,
   "id": "63b7c0af-3e19-465a-99b4-7aec15afcf49",
   "metadata": {},
   "outputs": [
    {
     "data": {
      "text/plain": [
       "array([[3.28666667],\n",
       "       [2.77333333]])"
      ]
     },
     "execution_count": 11,
     "metadata": {},
     "output_type": "execute_result"
    }
   ],
   "source": [
    "# now let's get the results for both students\n",
    "gpa@weights"
   ]
  },
  {
   "cell_type": "markdown",
   "id": "cf6e3b53-646f-44a8-8714-0c5c10fe9c8c",
   "metadata": {},
   "source": [
    "**Multi-ouputs**"
   ]
  },
  {
   "cell_type": "markdown",
   "id": "9deb29cb-c468-458d-8985-d5e7a0311131",
   "metadata": {},
   "source": [
    "We saw how changing the rows or the columns of X changes the output. But how about changing the type of output that we want? In our previous example we had one target which was the `cgpa`, what if we want to change the number of outputs to be more than one, say for example we want to have the `average` of grades in addition to the `cgpa`. In this case, we need to include another column in the weight matrix to connect with the average. So essentially the number of columns in `w` should be the same as the number of outputs."
   ]
  },
  {
   "cell_type": "code",
   "execution_count": 12,
   "id": "787a3688-e3f3-4da1-a18c-2ff4ef75ea8e",
   "metadata": {},
   "outputs": [
    {
     "data": {
      "text/plain": [
       "array([[0.06666667, 0.2       ],\n",
       "       [0.13333333, 0.2       ],\n",
       "       [0.2       , 0.2       ],\n",
       "       [0.26666667, 0.2       ],\n",
       "       [0.33333333, 0.2       ]])"
      ]
     },
     "execution_count": 12,
     "metadata": {},
     "output_type": "execute_result"
    }
   ],
   "source": [
    "weights = np.hstack([weights,np.array([1/5,1/5,1/5,1/5,1/5]).reshape(5,1)])\n",
    "weights"
   ]
  },
  {
   "cell_type": "markdown",
   "id": "063742bb-ca97-48da-98bc-179c37c89e89",
   "metadata": {},
   "source": [
    "Now for each of the two students we have, we will calculate the avg in addition to the gpa\n",
    "\n"
   ]
  },
  {
   "cell_type": "code",
   "execution_count": 13,
   "id": "ba7cbecb-db94-4e5d-894d-80c193a43d70",
   "metadata": {},
   "outputs": [
    {
     "data": {
      "text/plain": [
       "array([[3.28666667, 3.24      ],\n",
       "       [2.77333333, 2.78      ]])"
      ]
     },
     "execution_count": 13,
     "metadata": {},
     "output_type": "execute_result"
    }
   ],
   "source": [
    "gpa@weights\n"
   ]
  },
  {
   "cell_type": "markdown",
   "id": "423602eb-4c6f-4d4c-8b50-cd844e4f3267",
   "metadata": {},
   "source": [
    "This knowledge will come handy when we are dealing with NN that has many hidden layer with many units, for example let's say we have the second layer with 10 units, and the third layer 5 units, then the `w` matrix will be 10 by 5"
   ]
  },
  {
   "cell_type": "code",
   "execution_count": 14,
   "id": "0b12b891-f913-4bc1-b387-cb3e5bed1ac2",
   "metadata": {},
   "outputs": [],
   "source": [
    "from sklearn.datasets import fetch_california_housing\n",
    "from sklearn.model_selection import train_test_split\n",
    "\n",
    "cal_housing = fetch_california_housing(as_frame=True)\n",
    "X = pd.DataFrame(cal_housing.data,columns=cal_housing.feature_names)\n",
    "y = cal_housing.target"
   ]
  },
  {
   "cell_type": "code",
   "execution_count": 15,
   "id": "7e88f427-a327-4b47-81ad-146a2978ce7b",
   "metadata": {},
   "outputs": [
    {
     "data": {
      "text/html": [
       "<div>\n",
       "<style scoped>\n",
       "    .dataframe tbody tr th:only-of-type {\n",
       "        vertical-align: middle;\n",
       "    }\n",
       "\n",
       "    .dataframe tbody tr th {\n",
       "        vertical-align: top;\n",
       "    }\n",
       "\n",
       "    .dataframe thead th {\n",
       "        text-align: right;\n",
       "    }\n",
       "</style>\n",
       "<table border=\"1\" class=\"dataframe\">\n",
       "  <thead>\n",
       "    <tr style=\"text-align: right;\">\n",
       "      <th></th>\n",
       "      <th>MedInc</th>\n",
       "      <th>HouseAge</th>\n",
       "      <th>AveRooms</th>\n",
       "      <th>AveBedrms</th>\n",
       "      <th>Population</th>\n",
       "      <th>AveOccup</th>\n",
       "      <th>Latitude</th>\n",
       "      <th>Longitude</th>\n",
       "    </tr>\n",
       "  </thead>\n",
       "  <tbody>\n",
       "    <tr>\n",
       "      <th>0</th>\n",
       "      <td>8.3252</td>\n",
       "      <td>41.0</td>\n",
       "      <td>6.984127</td>\n",
       "      <td>1.023810</td>\n",
       "      <td>322.0</td>\n",
       "      <td>2.555556</td>\n",
       "      <td>37.88</td>\n",
       "      <td>-122.23</td>\n",
       "    </tr>\n",
       "    <tr>\n",
       "      <th>1</th>\n",
       "      <td>8.3014</td>\n",
       "      <td>21.0</td>\n",
       "      <td>6.238137</td>\n",
       "      <td>0.971880</td>\n",
       "      <td>2401.0</td>\n",
       "      <td>2.109842</td>\n",
       "      <td>37.86</td>\n",
       "      <td>-122.22</td>\n",
       "    </tr>\n",
       "    <tr>\n",
       "      <th>2</th>\n",
       "      <td>7.2574</td>\n",
       "      <td>52.0</td>\n",
       "      <td>8.288136</td>\n",
       "      <td>1.073446</td>\n",
       "      <td>496.0</td>\n",
       "      <td>2.802260</td>\n",
       "      <td>37.85</td>\n",
       "      <td>-122.24</td>\n",
       "    </tr>\n",
       "    <tr>\n",
       "      <th>3</th>\n",
       "      <td>5.6431</td>\n",
       "      <td>52.0</td>\n",
       "      <td>5.817352</td>\n",
       "      <td>1.073059</td>\n",
       "      <td>558.0</td>\n",
       "      <td>2.547945</td>\n",
       "      <td>37.85</td>\n",
       "      <td>-122.25</td>\n",
       "    </tr>\n",
       "    <tr>\n",
       "      <th>4</th>\n",
       "      <td>3.8462</td>\n",
       "      <td>52.0</td>\n",
       "      <td>6.281853</td>\n",
       "      <td>1.081081</td>\n",
       "      <td>565.0</td>\n",
       "      <td>2.181467</td>\n",
       "      <td>37.85</td>\n",
       "      <td>-122.25</td>\n",
       "    </tr>\n",
       "    <tr>\n",
       "      <th>...</th>\n",
       "      <td>...</td>\n",
       "      <td>...</td>\n",
       "      <td>...</td>\n",
       "      <td>...</td>\n",
       "      <td>...</td>\n",
       "      <td>...</td>\n",
       "      <td>...</td>\n",
       "      <td>...</td>\n",
       "    </tr>\n",
       "    <tr>\n",
       "      <th>20635</th>\n",
       "      <td>1.5603</td>\n",
       "      <td>25.0</td>\n",
       "      <td>5.045455</td>\n",
       "      <td>1.133333</td>\n",
       "      <td>845.0</td>\n",
       "      <td>2.560606</td>\n",
       "      <td>39.48</td>\n",
       "      <td>-121.09</td>\n",
       "    </tr>\n",
       "    <tr>\n",
       "      <th>20636</th>\n",
       "      <td>2.5568</td>\n",
       "      <td>18.0</td>\n",
       "      <td>6.114035</td>\n",
       "      <td>1.315789</td>\n",
       "      <td>356.0</td>\n",
       "      <td>3.122807</td>\n",
       "      <td>39.49</td>\n",
       "      <td>-121.21</td>\n",
       "    </tr>\n",
       "    <tr>\n",
       "      <th>20637</th>\n",
       "      <td>1.7000</td>\n",
       "      <td>17.0</td>\n",
       "      <td>5.205543</td>\n",
       "      <td>1.120092</td>\n",
       "      <td>1007.0</td>\n",
       "      <td>2.325635</td>\n",
       "      <td>39.43</td>\n",
       "      <td>-121.22</td>\n",
       "    </tr>\n",
       "    <tr>\n",
       "      <th>20638</th>\n",
       "      <td>1.8672</td>\n",
       "      <td>18.0</td>\n",
       "      <td>5.329513</td>\n",
       "      <td>1.171920</td>\n",
       "      <td>741.0</td>\n",
       "      <td>2.123209</td>\n",
       "      <td>39.43</td>\n",
       "      <td>-121.32</td>\n",
       "    </tr>\n",
       "    <tr>\n",
       "      <th>20639</th>\n",
       "      <td>2.3886</td>\n",
       "      <td>16.0</td>\n",
       "      <td>5.254717</td>\n",
       "      <td>1.162264</td>\n",
       "      <td>1387.0</td>\n",
       "      <td>2.616981</td>\n",
       "      <td>39.37</td>\n",
       "      <td>-121.24</td>\n",
       "    </tr>\n",
       "  </tbody>\n",
       "</table>\n",
       "<p>20640 rows × 8 columns</p>\n",
       "</div>"
      ],
      "text/plain": [
       "       MedInc  HouseAge  AveRooms  AveBedrms  Population  AveOccup  Latitude  \\\n",
       "0      8.3252      41.0  6.984127   1.023810       322.0  2.555556     37.88   \n",
       "1      8.3014      21.0  6.238137   0.971880      2401.0  2.109842     37.86   \n",
       "2      7.2574      52.0  8.288136   1.073446       496.0  2.802260     37.85   \n",
       "3      5.6431      52.0  5.817352   1.073059       558.0  2.547945     37.85   \n",
       "4      3.8462      52.0  6.281853   1.081081       565.0  2.181467     37.85   \n",
       "...       ...       ...       ...        ...         ...       ...       ...   \n",
       "20635  1.5603      25.0  5.045455   1.133333       845.0  2.560606     39.48   \n",
       "20636  2.5568      18.0  6.114035   1.315789       356.0  3.122807     39.49   \n",
       "20637  1.7000      17.0  5.205543   1.120092      1007.0  2.325635     39.43   \n",
       "20638  1.8672      18.0  5.329513   1.171920       741.0  2.123209     39.43   \n",
       "20639  2.3886      16.0  5.254717   1.162264      1387.0  2.616981     39.37   \n",
       "\n",
       "       Longitude  \n",
       "0        -122.23  \n",
       "1        -122.22  \n",
       "2        -122.24  \n",
       "3        -122.25  \n",
       "4        -122.25  \n",
       "...          ...  \n",
       "20635    -121.09  \n",
       "20636    -121.21  \n",
       "20637    -121.22  \n",
       "20638    -121.32  \n",
       "20639    -121.24  \n",
       "\n",
       "[20640 rows x 8 columns]"
      ]
     },
     "execution_count": 15,
     "metadata": {},
     "output_type": "execute_result"
    }
   ],
   "source": [
    "X"
   ]
  },
  {
   "cell_type": "code",
   "execution_count": 16,
   "id": "dc9eb3a4-9e80-4364-8eb4-f4c957516f40",
   "metadata": {},
   "outputs": [],
   "source": [
    "X_train, X_test, y_train, y_test = train_test_split(X, y,random_state=1, test_size=0.2)"
   ]
  },
  {
   "cell_type": "code",
   "execution_count": 17,
   "id": "d4ed37d6-b9e9-4ff4-a984-d87254f56f81",
   "metadata": {},
   "outputs": [],
   "source": [
    "from sklearn.preprocessing import StandardScaler\n",
    "sc_X = StandardScaler()\n",
    "X_trainscaled=sc_X.fit_transform(X_train)\n",
    "X_testscaled=sc_X.transform(X_test)"
   ]
  },
  {
   "cell_type": "code",
   "execution_count": 18,
   "id": "925e0f89-b8ef-4e1d-ad34-06312dfff3fe",
   "metadata": {},
   "outputs": [
    {
     "data": {
      "text/plain": [
       "(16512, 8)"
      ]
     },
     "execution_count": 18,
     "metadata": {},
     "output_type": "execute_result"
    }
   ],
   "source": [
    "X_trainscaled.shape"
   ]
  },
  {
   "cell_type": "code",
   "execution_count": 19,
   "id": "dc94a7b7-4ddd-4a2f-a1f8-012521cb2355",
   "metadata": {},
   "outputs": [
    {
     "data": {
      "text/plain": [
       "array([-0.36232605,  1.85890297, -0.16877334, -0.16841537, -0.4861138 ,\n",
       "        0.00190139,  0.97229046, -1.42250942])"
      ]
     },
     "execution_count": 19,
     "metadata": {},
     "output_type": "execute_result"
    }
   ],
   "source": [
    "# let's take just one training example\n",
    "\n",
    "x = X_trainscaled[0,:]\n",
    "x"
   ]
  },
  {
   "cell_type": "code",
   "execution_count": 20,
   "id": "f9dca35b-90a3-494d-b1d3-08344467d0e1",
   "metadata": {},
   "outputs": [
    {
     "data": {
      "text/plain": [
       "(8,)"
      ]
     },
     "execution_count": 20,
     "metadata": {},
     "output_type": "execute_result"
    }
   ],
   "source": [
    "x.shape"
   ]
  },
  {
   "cell_type": "code",
   "execution_count": 21,
   "id": "6104fb09-7714-403f-bf1e-8d08ac260e71",
   "metadata": {},
   "outputs": [
    {
     "data": {
      "text/plain": [
       "array([[-0.36232605,  1.85890297, -0.16877334, -0.16841537, -0.4861138 ,\n",
       "         0.00190139,  0.97229046, -1.42250942]])"
      ]
     },
     "execution_count": 21,
     "metadata": {},
     "output_type": "execute_result"
    }
   ],
   "source": [
    "x = x.reshape(1,x.shape[0])\n",
    "x"
   ]
  },
  {
   "cell_type": "code",
   "execution_count": 22,
   "id": "7f224a75-fd02-4d47-b73a-9d46d9ac245e",
   "metadata": {},
   "outputs": [
    {
     "data": {
      "text/plain": [
       "(1, 8)"
      ]
     },
     "execution_count": 22,
     "metadata": {},
     "output_type": "execute_result"
    }
   ],
   "source": [
    "x.shape"
   ]
  },
  {
   "cell_type": "code",
   "execution_count": 23,
   "id": "c53531ce-ee85-4786-b28d-2380ee5cb9a4",
   "metadata": {},
   "outputs": [],
   "source": [
    "np.random.seed(500)\n",
    "w = np.random.rand(x.shape[1],1)\n",
    "b = np.zeros((x.shape[0],1))\n"
   ]
  },
  {
   "cell_type": "code",
   "execution_count": 24,
   "id": "07ad3d2c-907e-4973-84a3-8e75cfb94e84",
   "metadata": {},
   "outputs": [
    {
     "data": {
      "text/plain": [
       "(8, 1)"
      ]
     },
     "execution_count": 24,
     "metadata": {},
     "output_type": "execute_result"
    }
   ],
   "source": [
    "w.shape"
   ]
  },
  {
   "cell_type": "code",
   "execution_count": 25,
   "id": "c0093e4b-1378-442f-a06c-9d05f04667d1",
   "metadata": {},
   "outputs": [
    {
     "data": {
      "text/plain": [
       "(1, 1)"
      ]
     },
     "execution_count": 25,
     "metadata": {},
     "output_type": "execute_result"
    }
   ],
   "source": [
    "b.shape"
   ]
  },
  {
   "cell_type": "code",
   "execution_count": 26,
   "id": "1c8d63a6-67fa-4ad1-b3bc-8cdc604442c6",
   "metadata": {},
   "outputs": [
    {
     "data": {
      "text/plain": [
       "array([[-0.37310667]])"
      ]
     },
     "execution_count": 26,
     "metadata": {},
     "output_type": "execute_result"
    }
   ],
   "source": [
    "x@w"
   ]
  },
  {
   "cell_type": "code",
   "execution_count": 27,
   "id": "f797f777-17e2-4b05-ac95-4416377965fb",
   "metadata": {},
   "outputs": [
    {
     "name": "stderr",
     "output_type": "stream",
     "text": [
      "2022-11-16 07:26:29.861760: I tensorflow/core/platform/cpu_feature_guard.cc:193] This TensorFlow binary is optimized with oneAPI Deep Neural Network Library (oneDNN) to use the following CPU instructions in performance-critical operations:  AVX2 FMA\n",
      "To enable them in other operations, rebuild TensorFlow with the appropriate compiler flags.\n"
     ]
    }
   ],
   "source": [
    "import tensorflow as tf \n",
    "\n"
   ]
  },
  {
   "cell_type": "code",
   "execution_count": 28,
   "id": "452392ad-e47e-4235-af07-ee7abb19c10f",
   "metadata": {},
   "outputs": [
    {
     "name": "stderr",
     "output_type": "stream",
     "text": [
      "2022-11-16 07:26:34.326386: I tensorflow/core/platform/cpu_feature_guard.cc:193] This TensorFlow binary is optimized with oneAPI Deep Neural Network Library (oneDNN) to use the following CPU instructions in performance-critical operations:  AVX2 FMA\n",
      "To enable them in other operations, rebuild TensorFlow with the appropriate compiler flags.\n"
     ]
    },
    {
     "data": {
      "text/plain": [
       "<tf.Tensor: shape=(1, 1), dtype=float64, numpy=array([[-0.37310667]])>"
      ]
     },
     "execution_count": 28,
     "metadata": {},
     "output_type": "execute_result"
    }
   ],
   "source": [
    "tf.matmul(x,w)"
   ]
  },
  {
   "cell_type": "code",
   "execution_count": 29,
   "id": "04f2b3db-2436-488d-85cd-10f7faf69d48",
   "metadata": {},
   "outputs": [],
   "source": [
    "y_predicted = tf.matmul(x,w)\n",
    "y_predicted = y_predicted[:,0]"
   ]
  },
  {
   "cell_type": "markdown",
   "id": "b344c8fb-0c9d-4d93-a782-e29108762be3",
   "metadata": {
    "tags": []
   },
   "source": [
    "### How are we from the true values? \n",
    "> A Loss function"
   ]
  },
  {
   "cell_type": "code",
   "execution_count": 30,
   "id": "cba3000d-5cb1-4211-a696-a793d228f68a",
   "metadata": {},
   "outputs": [],
   "source": [
    "from sklearn.metrics import mean_absolute_error, mean_squared_error"
   ]
  },
  {
   "cell_type": "code",
   "execution_count": 31,
   "id": "df48993d-48cf-415f-b8f2-925a52af4512",
   "metadata": {},
   "outputs": [
    {
     "data": {
      "text/plain": [
       "0        4.526\n",
       "1        3.585\n",
       "2        3.521\n",
       "3        3.413\n",
       "4        3.422\n",
       "         ...  \n",
       "20635    0.781\n",
       "20636    0.771\n",
       "20637    0.923\n",
       "20638    0.847\n",
       "20639    0.894\n",
       "Name: MedHouseVal, Length: 20640, dtype: float64"
      ]
     },
     "execution_count": 31,
     "metadata": {},
     "output_type": "execute_result"
    }
   ],
   "source": [
    "y"
   ]
  },
  {
   "cell_type": "code",
   "execution_count": 32,
   "id": "ee8d269d-99fe-42be-9d22-c475da001d44",
   "metadata": {},
   "outputs": [
    {
     "name": "stdout",
     "output_type": "stream",
     "text": [
      "8.579665869538433\n",
      "2.929106667490693\n"
     ]
    }
   ],
   "source": [
    "#MSE: \n",
    "y = np.array(y_train.iloc[0]).reshape(1,1)\n",
    "\n",
    "mse_loss = mean_squared_error(y,y_predicted)\n",
    "print(mse_loss)\n",
    "#MAE\n",
    "mae_loss= mean_absolute_error(y,y_predicted)\n",
    "print(mae_loss)"
   ]
  },
  {
   "cell_type": "code",
   "execution_count": 33,
   "id": "6e893cb6-b3ec-4706-a7f2-3d3d19542296",
   "metadata": {},
   "outputs": [
    {
     "data": {
      "text/plain": [
       "8.579665869538433"
      ]
     },
     "execution_count": 33,
     "metadata": {},
     "output_type": "execute_result"
    }
   ],
   "source": [
    "np.mean((y-y_predicted)**2)"
   ]
  },
  {
   "cell_type": "markdown",
   "id": "e516cd8a-9629-4553-9b41-a03996bc9178",
   "metadata": {},
   "source": [
    "### Where do we go from here, how we could reduce the loss function: \n",
    "> We need to update the values of the weights\n",
    "\n",
    "> An Optimization algorithm: eg. gradient descent\n",
    "\n",
    "new_w = old+w - step_size* dl/dw"
   ]
  },
  {
   "cell_type": "markdown",
   "id": "3e6bf119-84fb-47ae-b2da-c0b0111e09f8",
   "metadata": {},
   "source": [
    "OK, so we update `w` and then recalculate y_predicted again, but isn't this just like doing linear regression? In fact, yes. The model that we have been building so fart is just the linear regression model that we worked with before. We need to add the non-linearity part, which is the activation function\n"
   ]
  },
  {
   "cell_type": "markdown",
   "id": "72a510f2-9a3d-47cc-8d2e-cc2678601f17",
   "metadata": {},
   "source": [
    "### Non-Linearity: Activation Function"
   ]
  },
  {
   "cell_type": "code",
   "execution_count": 34,
   "id": "b30bf669-e3d2-4b76-b69c-085451b442b2",
   "metadata": {},
   "outputs": [
    {
     "data": {
      "text/plain": [
       "array([[-0.35670609]])"
      ]
     },
     "execution_count": 34,
     "metadata": {},
     "output_type": "execute_result"
    }
   ],
   "source": [
    "np.tanh(tf.matmul(x,w),b)"
   ]
  },
  {
   "cell_type": "code",
   "execution_count": 35,
   "id": "cf21bdb1-c96e-4e28-adf7-aae0063f6595",
   "metadata": {},
   "outputs": [
    {
     "data": {
      "text/plain": [
       "(1, 1)"
      ]
     },
     "execution_count": 35,
     "metadata": {},
     "output_type": "execute_result"
    }
   ],
   "source": [
    "np.tanh(tf.matmul(x,w),b).shape"
   ]
  },
  {
   "cell_type": "code",
   "execution_count": 36,
   "id": "98680914-82de-4415-9d99-ef0ecacc0757",
   "metadata": {},
   "outputs": [],
   "source": [
    "def nn_predict(x_,w_,b_): # x is a vector, W is a matrix\n",
    "    return np.tanh(tf.matmul(x_,w_),b_)"
   ]
  },
  {
   "cell_type": "code",
   "execution_count": 37,
   "id": "745767e0-7ea2-4e22-be0d-b82cbd3f965b",
   "metadata": {},
   "outputs": [
    {
     "data": {
      "text/plain": [
       "array([[-0.35670609]])"
      ]
     },
     "execution_count": 37,
     "metadata": {},
     "output_type": "execute_result"
    }
   ],
   "source": [
    "nn_predict(x,w,b)"
   ]
  },
  {
   "cell_type": "markdown",
   "id": "10de878c-a2bc-418c-a3ff-9af1768f023d",
   "metadata": {},
   "source": [
    "### Adding More Layers: Deep learning through successive layers of representations"
   ]
  },
  {
   "cell_type": "code",
   "execution_count": 38,
   "id": "1833b945-b7ca-4090-b094-ce69773fd58d",
   "metadata": {},
   "outputs": [
    {
     "data": {
      "text/plain": [
       "array([[0.34233845, 0.36563683, 0.85062578, 0.44849744],\n",
       "       [0.31647204, 0.36173317, 0.45072243, 0.91526806],\n",
       "       [0.45995858, 0.27367946, 0.91749612, 0.45953222],\n",
       "       [0.54459121, 0.69069037, 0.83083808, 0.63590931],\n",
       "       [0.64981717, 0.95375833, 0.56995437, 0.6352015 ],\n",
       "       [0.03646224, 0.74912676, 0.85806843, 0.48540734],\n",
       "       [0.23216177, 0.50338804, 0.13613189, 0.1730703 ],\n",
       "       [0.10495834, 0.24399055, 0.6607235 , 0.60138769]])"
      ]
     },
     "execution_count": 38,
     "metadata": {},
     "output_type": "execute_result"
    }
   ],
   "source": [
    "# hiddern layer # 1: 4 nerons\n",
    "# w is 8 by 4\n",
    "w_layer1 = np.random.rand(x.shape[1],4)\n",
    "w_layer1 "
   ]
  },
  {
   "cell_type": "markdown",
   "id": "b0b6aaba-8005-4ca8-bcf0-e2314c8f1994",
   "metadata": {},
   "source": [
    "![](assets/hidden_layer1.jpg)"
   ]
  },
  {
   "cell_type": "code",
   "execution_count": 39,
   "id": "fb004634-b0ce-4fb8-816d-39b8e1a50d6b",
   "metadata": {},
   "outputs": [],
   "source": [
    "b_layer1 = np.zeros((x.shape[0],4))"
   ]
  },
  {
   "cell_type": "code",
   "execution_count": 40,
   "id": "a0a650ed-c834-457a-862e-d72c9236f07a",
   "metadata": {},
   "outputs": [
    {
     "data": {
      "text/plain": [
       "array([[ 0.0554581 ,  0.0575207 , -0.69006836,  0.34448821]])"
      ]
     },
     "execution_count": 40,
     "metadata": {},
     "output_type": "execute_result"
    }
   ],
   "source": [
    "ouput_layer1 = nn_predict(x,w_layer1,b_layer1)\n",
    "ouput_layer1 "
   ]
  },
  {
   "cell_type": "code",
   "execution_count": 41,
   "id": "011f25cd-0667-43dd-bfdb-94ea042d5897",
   "metadata": {},
   "outputs": [
    {
     "data": {
      "text/plain": [
       "array([[0.6612481 ],\n",
       "       [0.92053973],\n",
       "       [0.95527663],\n",
       "       [0.82377381]])"
      ]
     },
     "execution_count": 41,
     "metadata": {},
     "output_type": "execute_result"
    }
   ],
   "source": [
    "w_final = np.random.rand(ouput_layer1 .shape[1],1)\n",
    "\n",
    "w_final"
   ]
  },
  {
   "cell_type": "code",
   "execution_count": 42,
   "id": "75dbc9e2-06b5-41fd-bd2e-97a42cd06fc3",
   "metadata": {},
   "outputs": [
    {
     "data": {
      "text/plain": [
       "array([[-0.2782684]])"
      ]
     },
     "execution_count": 42,
     "metadata": {},
     "output_type": "execute_result"
    }
   ],
   "source": [
    "b_final = np.zeros((ouput_layer1.shape[0],1))\n",
    "ouput_final= nn_predict(ouput_layer1 ,w_final,b_final)\n",
    "ouput_final"
   ]
  },
  {
   "cell_type": "code",
   "execution_count": 68,
   "id": "d20f0f73-87c2-4de4-92a8-23c9e8326010",
   "metadata": {},
   "outputs": [],
   "source": [
    "model = tf.keras.Sequential()\n",
    "# setting the input shape to be the number of features\n",
    "model.add(tf.keras.layers.Dense(4, input_shape=(x.shape[1],),activation='tanh'))\n",
    "model.add(tf.keras.layers.Dense(2))\n",
    "# Afterwards, we do automatic shape inference:\n",
    "model.add(tf.keras.layers.Dense(1))"
   ]
  },
  {
   "cell_type": "code",
   "execution_count": 69,
   "id": "99e9993d-89ec-4f30-99df-e8ec447ce06f",
   "metadata": {},
   "outputs": [
    {
     "name": "stdout",
     "output_type": "stream",
     "text": [
      "Model: \"sequential_1\"\n",
      "_________________________________________________________________\n",
      " Layer (type)                Output Shape              Param #   \n",
      "=================================================================\n",
      " dense_2 (Dense)             (None, 4)                 36        \n",
      "                                                                 \n",
      " dense_3 (Dense)             (None, 2)                 10        \n",
      "                                                                 \n",
      " dense_4 (Dense)             (None, 1)                 3         \n",
      "                                                                 \n",
      "=================================================================\n",
      "Total params: 49\n",
      "Trainable params: 49\n",
      "Non-trainable params: 0\n",
      "_________________________________________________________________\n"
     ]
    }
   ],
   "source": [
    "model.summary()"
   ]
  },
  {
   "cell_type": "code",
   "execution_count": 70,
   "id": "8ebbbe16-e5fb-4c69-8aa4-0437658ab6fa",
   "metadata": {},
   "outputs": [
    {
     "data": {
      "text/plain": [
       "(1, 8)"
      ]
     },
     "execution_count": 70,
     "metadata": {},
     "output_type": "execute_result"
    }
   ],
   "source": [
    "x.shape"
   ]
  },
  {
   "cell_type": "code",
   "execution_count": 71,
   "id": "c9554471-512a-4417-aa62-46ee6fc00f63",
   "metadata": {},
   "outputs": [],
   "source": [
    "# let's do a prediction without even fitting on the data"
   ]
  },
  {
   "cell_type": "code",
   "execution_count": 72,
   "id": "7b8441fe-a57f-4552-83ea-c67a31dd75cb",
   "metadata": {},
   "outputs": [
    {
     "name": "stdout",
     "output_type": "stream",
     "text": [
      "1/1 [==============================] - 0s 57ms/step\n"
     ]
    },
    {
     "data": {
      "text/plain": [
       "array([[-0.21409088]], dtype=float32)"
      ]
     },
     "execution_count": 72,
     "metadata": {},
     "output_type": "execute_result"
    }
   ],
   "source": [
    "model.predict(x)"
   ]
  },
  {
   "cell_type": "markdown",
   "id": "06851c7c-9ec1-4b15-aa89-aff73efb4366",
   "metadata": {},
   "source": [
    "The model is built, now we need to configure the training procedure using the Keras Model.compile method"
   ]
  },
  {
   "cell_type": "code",
   "execution_count": 73,
   "id": "c35e9e9a-1cf0-454b-89e4-47928731f6bb",
   "metadata": {},
   "outputs": [],
   "source": [
    "model.compile(\n",
    "    optimizer=tf.keras.optimizers.SGD(learning_rate=0.1),\n",
    "    loss='mean_absolute_error')"
   ]
  },
  {
   "cell_type": "code",
   "execution_count": 74,
   "id": "20ecaba1-071d-4bc8-9dc3-9f16e8c00730",
   "metadata": {},
   "outputs": [
    {
     "name": "stderr",
     "output_type": "stream",
     "text": [
      "/Users/mosal/Downloads/ENTER/envs/deepleanring/lib/python3.10/site-packages/keras/engine/data_adapter.py:1699: FutureWarning: The behavior of `series[i:j]` with an integer-dtype index is deprecated. In a future version, this will be treated as *label-based* indexing, consistent with e.g. `series[i]` lookups. To retain the old behavior, use `series.iloc[i:j]`. To get the future behavior, use `series.loc[i:j]`.\n",
      "  return t[start:end]\n"
     ]
    },
    {
     "name": "stdout",
     "output_type": "stream",
     "text": [
      "CPU times: user 35.2 s, sys: 3.48 s, total: 38.7 s\n",
      "Wall time: 30 s\n"
     ]
    }
   ],
   "source": [
    "%%time\n",
    "history = model.fit(\n",
    "    X_trainscaled,\n",
    "    y_train,\n",
    "    epochs=100,\n",
    "    # Suppress logging.\n",
    "    verbose=0,\n",
    "    # Calculate validation results on 20% of the training data.\n",
    "    validation_split = 0.2)"
   ]
  },
  {
   "cell_type": "code",
   "execution_count": 50,
   "id": "8e6e7c3f-ccec-4aa7-9bfe-32e67e4665c2",
   "metadata": {},
   "outputs": [
    {
     "data": {
      "text/html": [
       "<div>\n",
       "<style scoped>\n",
       "    .dataframe tbody tr th:only-of-type {\n",
       "        vertical-align: middle;\n",
       "    }\n",
       "\n",
       "    .dataframe tbody tr th {\n",
       "        vertical-align: top;\n",
       "    }\n",
       "\n",
       "    .dataframe thead th {\n",
       "        text-align: right;\n",
       "    }\n",
       "</style>\n",
       "<table border=\"1\" class=\"dataframe\">\n",
       "  <thead>\n",
       "    <tr style=\"text-align: right;\">\n",
       "      <th></th>\n",
       "      <th>loss</th>\n",
       "      <th>val_loss</th>\n",
       "      <th>epoch</th>\n",
       "    </tr>\n",
       "  </thead>\n",
       "  <tbody>\n",
       "    <tr>\n",
       "      <th>95</th>\n",
       "      <td>0.399953</td>\n",
       "      <td>0.408333</td>\n",
       "      <td>95</td>\n",
       "    </tr>\n",
       "    <tr>\n",
       "      <th>96</th>\n",
       "      <td>0.400139</td>\n",
       "      <td>0.416090</td>\n",
       "      <td>96</td>\n",
       "    </tr>\n",
       "    <tr>\n",
       "      <th>97</th>\n",
       "      <td>0.399544</td>\n",
       "      <td>0.405736</td>\n",
       "      <td>97</td>\n",
       "    </tr>\n",
       "    <tr>\n",
       "      <th>98</th>\n",
       "      <td>0.399343</td>\n",
       "      <td>0.414522</td>\n",
       "      <td>98</td>\n",
       "    </tr>\n",
       "    <tr>\n",
       "      <th>99</th>\n",
       "      <td>0.398881</td>\n",
       "      <td>0.418431</td>\n",
       "      <td>99</td>\n",
       "    </tr>\n",
       "  </tbody>\n",
       "</table>\n",
       "</div>"
      ],
      "text/plain": [
       "        loss  val_loss  epoch\n",
       "95  0.399953  0.408333     95\n",
       "96  0.400139  0.416090     96\n",
       "97  0.399544  0.405736     97\n",
       "98  0.399343  0.414522     98\n",
       "99  0.398881  0.418431     99"
      ]
     },
     "execution_count": 50,
     "metadata": {},
     "output_type": "execute_result"
    }
   ],
   "source": [
    "hist = pd.DataFrame(history.history)\n",
    "hist['epoch'] = history.epoch\n",
    "hist.tail()"
   ]
  },
  {
   "cell_type": "code",
   "execution_count": 51,
   "id": "1550f874-8bd8-4fcb-bd0d-72d63a19a192",
   "metadata": {},
   "outputs": [],
   "source": [
    "def plot_loss(history):\n",
    "    plt.plot(history.history['loss'], label='loss')\n",
    "    plt.plot(history.history['val_loss'], label='val_loss')\n",
    "    plt.ylim([0,1])\n",
    "    plt.xlabel('Epoch')\n",
    "    plt.ylabel('Error [MPG]')\n",
    "    plt.legend()\n",
    "    plt.grid(True)"
   ]
  },
  {
   "cell_type": "code",
   "execution_count": 52,
   "id": "e0026d28-7e26-4224-bd2d-45e1b9e656e5",
   "metadata": {},
   "outputs": [
    {
     "data": {
      "image/png": "[encoded data removed]",
      "text/plain": [
       "<Figure size 640x480 with 1 Axes>"
      ]
     },
     "metadata": {},
     "output_type": "display_data"
    }
   ],
   "source": [
    "plot_loss(history)\n"
   ]
  },
  {
   "cell_type": "code",
   "execution_count": 63,
   "id": "20bb6dcf-305a-4037-8b43-6eb0af94db33",
   "metadata": {},
   "outputs": [
    {
     "name": "stdout",
     "output_type": "stream",
     "text": [
      "129/129 [==============================] - 0s 824us/step\n"
     ]
    }
   ],
   "source": [
    "y_pred = model.predict(X_testscaled)\n"
   ]
  },
  {
   "cell_type": "code",
   "execution_count": 64,
   "id": "6fb33adb-79bc-4793-9db3-cb135e1672c4",
   "metadata": {},
   "outputs": [
    {
     "data": {
      "text/plain": [
       "array([[2.512116  ],\n",
       "       [0.7380276 ],\n",
       "       [1.9025683 ],\n",
       "       ...,\n",
       "       [2.0777364 ],\n",
       "       [2.2563512 ],\n",
       "       [0.77761745]], dtype=float32)"
      ]
     },
     "execution_count": 64,
     "metadata": {},
     "output_type": "execute_result"
    }
   ],
   "source": [
    "y_pred"
   ]
  },
  {
   "cell_type": "code",
   "execution_count": 65,
   "id": "7a475b68-44a3-4754-81e9-e24bbc85159b",
   "metadata": {},
   "outputs": [
    {
     "data": {
      "text/plain": [
       "4712     3.550\n",
       "2151     0.707\n",
       "15927    2.294\n",
       "82       1.125\n",
       "8161     2.254\n",
       "         ...  \n",
       "2319     0.682\n",
       "5341     2.250\n",
       "16888    3.500\n",
       "6823     2.273\n",
       "11878    1.417\n",
       "Name: MedHouseVal, Length: 4128, dtype: float64"
      ]
     },
     "execution_count": 65,
     "metadata": {},
     "output_type": "execute_result"
    }
   ],
   "source": [
    "y_test"
   ]
  },
  {
   "cell_type": "code",
   "execution_count": 66,
   "id": "4e48e701-22b4-48f0-a9e4-d8591e5e0cc6",
   "metadata": {},
   "outputs": [],
   "source": [
    "from sklearn.metrics import mean_absolute_error"
   ]
  },
  {
   "cell_type": "code",
   "execution_count": 67,
   "id": "87de8559-c6fa-42a0-876b-7070d42342a2",
   "metadata": {},
   "outputs": [
    {
     "data": {
      "text/plain": [
       "0.40909861471665"
      ]
     },
     "execution_count": 67,
     "metadata": {},
     "output_type": "execute_result"
    }
   ],
   "source": [
    "mean_absolute_error(y_test,y_pred)"
   ]
  },
  {
   "cell_type": "code",
   "execution_count": 61,
   "id": "6275041a-8658-4d8c-a789-142b9c4c03bd",
   "metadata": {},
   "outputs": [
    {
     "data": {
      "text/plain": [
       "2.033388277616279"
      ]
     },
     "execution_count": 61,
     "metadata": {},
     "output_type": "execute_result"
    }
   ],
   "source": [
    "np.mean(y_test)"
   ]
  },
  {
   "cell_type": "code",
   "execution_count": null,
   "id": "9d155ceb-5c53-4d0c-9c0f-f8a76fc90540",
   "metadata": {},
   "outputs": [],
   "source": []
  }
 ],
 "metadata": {
  "kernelspec": {
   "display_name": "Python 3 (ipykernel)",
   "language": "python",
   "name": "python3"
  },
  "language_info": {
   "codemirror_mode": {
    "name": "ipython",
    "version": 3
   },
   "file_extension": ".py",
   "mimetype": "text/x-python",
   "name": "python",
   "nbconvert_exporter": "python",
   "pygments_lexer": "ipython3",
   "version": "3.10.8"
  }
 },
 "nbformat": 4,
 "nbformat_minor": 5
}
